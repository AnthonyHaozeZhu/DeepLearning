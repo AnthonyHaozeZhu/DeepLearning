{
 "cells": [
  {
   "cell_type": "markdown",
   "metadata": {},
   "source": [
    "# MNIST handwritten digits classification with MLPs\n",
    "\n",
    "In this notebook, we'll train a multi-layer perceptron model to classify MNIST digits using **PyTorch**. \n",
    "\n",
    "First, the needed imports. "
   ]
  },
  {
   "cell_type": "code",
   "execution_count": null,
   "metadata": {},
   "outputs": [],
   "source": []
  },
  {
   "cell_type": "code",
   "execution_count": 1,
   "metadata": {
    "scrolled": true
   },
   "outputs": [
    {
     "name": "stdout",
     "output_type": "stream",
     "text": [
      "Using PyTorch version: 1.7.1  Device: cpu\n"
     ]
    }
   ],
   "source": [
    "%matplotlib inline\n",
    "\n",
    "import torch\n",
    "import torch.nn as nn\n",
    "import torch.nn.functional as F #很多对图像的数学操作\n",
    "from torchvision import datasets, transforms #封装了很多数据集，针对图像进行操作（包括变换、采点、旋转、加噪音等操作）\n",
    "\n",
    "import numpy as np\n",
    "import matplotlib.pyplot as plt\n",
    "\n",
    "if torch.cuda.is_available():\n",
    "    device = torch.device('cuda')\n",
    "else:\n",
    "    device = torch.device('cpu')\n",
    "    \n",
    "print('Using PyTorch version:', torch.__version__, ' Device:', device)"
   ]
  },
  {
   "cell_type": "markdown",
   "metadata": {},
   "source": [
    "## Data\n",
    "\n",
    "Next we'll load the MNIST data.  First time we may have to download the data, which can take a while.\n",
    "\n",
    "Note that we are here using the MNIST test data for *validation*, instead of for testing the final model."
   ]
  },
  {
   "cell_type": "code",
   "execution_count": 2,
   "metadata": {},
   "outputs": [
    {
     "name": "stdout",
     "output_type": "stream",
     "text": [
      "Downloading http://yann.lecun.com/exdb/mnist/train-images-idx3-ubyte.gz to ./data/MNIST/raw/train-images-idx3-ubyte.gz\n"
     ]
    },
    {
     "name": "stderr",
     "output_type": "stream",
     "text": [
      "100.1%"
     ]
    },
    {
     "name": "stdout",
     "output_type": "stream",
     "text": [
      "Extracting ./data/MNIST/raw/train-images-idx3-ubyte.gz to ./data/MNIST/raw\n",
      "Downloading http://yann.lecun.com/exdb/mnist/train-labels-idx1-ubyte.gz to ./data/MNIST/raw/train-labels-idx1-ubyte.gz\n"
     ]
    },
    {
     "name": "stderr",
     "output_type": "stream",
     "text": [
      "113.5%"
     ]
    },
    {
     "name": "stdout",
     "output_type": "stream",
     "text": [
      "Extracting ./data/MNIST/raw/train-labels-idx1-ubyte.gz to ./data/MNIST/raw\n",
      "Downloading http://yann.lecun.com/exdb/mnist/t10k-images-idx3-ubyte.gz to ./data/MNIST/raw/t10k-images-idx3-ubyte.gz\n"
     ]
    },
    {
     "name": "stderr",
     "output_type": "stream",
     "text": [
      "100.4%"
     ]
    },
    {
     "name": "stdout",
     "output_type": "stream",
     "text": [
      "Extracting ./data/MNIST/raw/t10k-images-idx3-ubyte.gz to ./data/MNIST/raw\n",
      "Downloading http://yann.lecun.com/exdb/mnist/t10k-labels-idx1-ubyte.gz to ./data/MNIST/raw/t10k-labels-idx1-ubyte.gz\n"
     ]
    },
    {
     "name": "stderr",
     "output_type": "stream",
     "text": [
      "180.4%"
     ]
    },
    {
     "name": "stdout",
     "output_type": "stream",
     "text": [
      "Extracting ./data/MNIST/raw/t10k-labels-idx1-ubyte.gz to ./data/MNIST/raw\n",
      "Processing...\n",
      "Done!\n"
     ]
    },
    {
     "name": "stderr",
     "output_type": "stream",
     "text": [
      "/Users/zhuhaoze/opt/anaconda3/envs/py37/lib/python3.7/site-packages/torchvision/datasets/mnist.py:480: UserWarning: The given NumPy array is not writeable, and PyTorch does not support non-writeable tensors. This means you can write to the underlying (supposedly non-writeable) NumPy array using the tensor. You may want to copy the array to protect its data or make it writeable before converting it to a tensor. This type of warning will be suppressed for the rest of this program. (Triggered internally at  /tmp/pip-req-build-w4j5x1sn/torch/csrc/utils/tensor_numpy.cpp:141.)\n",
      "  return torch.from_numpy(parsed.astype(m[2], copy=False)).view(*s)\n"
     ]
    }
   ],
   "source": [
    "batch_size = 32\n",
    "\n",
    "train_dataset = datasets.MNIST('./data', \n",
    "                               train=True, \n",
    "                               download=True, \n",
    "                               transform=transforms.ToTensor())\n",
    "\n",
    "validation_dataset = datasets.MNIST('./data', \n",
    "                                    train=False, \n",
    "                                    transform=transforms.ToTensor())\n",
    "\n",
    "train_loader = torch.utils.data.DataLoader(dataset=train_dataset, \n",
    "                                           batch_size=batch_size, \n",
    "                                           shuffle=True)\n",
    "\n",
    "validation_loader = torch.utils.data.DataLoader(dataset=validation_dataset, \n",
    "                                                batch_size=batch_size, \n",
    "                                                shuffle=False)"
   ]
  },
  {
   "cell_type": "markdown",
   "metadata": {},
   "source": [
    "The train and test data are provided via data loaders that provide iterators over the datasets. The first element of training data (`X_train`) is a 4th-order tensor of size (`batch_size`, 1, 28, 28), i.e. it consists of a batch of images of size 1x28x28 pixels. `y_train` is a vector containing the correct classes (\"0\", \"1\", ..., \"9\") for each training digit."
   ]
  },
  {
   "cell_type": "code",
   "execution_count": 3,
   "metadata": {},
   "outputs": [
    {
     "name": "stdout",
     "output_type": "stream",
     "text": [
      "X_train: torch.Size([32, 1, 28, 28]) type: torch.FloatTensor\n",
      "y_train: torch.Size([32]) type: torch.LongTensor\n"
     ]
    }
   ],
   "source": [
    "for (X_train, y_train) in train_loader:\n",
    "    print('X_train:', X_train.size(), 'type:', X_train.type())\n",
    "    print('y_train:', y_train.size(), 'type:', y_train.type())\n",
    "    break"
   ]
  },
  {
   "cell_type": "markdown",
   "metadata": {},
   "source": [
    "Here are the first 10 training digits:"
   ]
  },
  {
   "cell_type": "code",
   "execution_count": 4,
   "metadata": {},
   "outputs": [
    {
     "data": {
      "text/plain": "<Figure size 720x72 with 10 Axes>",
      "image/png": "[encoded data removed]"
     },
     "metadata": {
      "needs_background": "light"
     },
     "output_type": "display_data"
    }
   ],
   "source": [
    "pltsize=1\n",
    "plt.figure(figsize=(10*pltsize, pltsize))\n",
    "\n",
    "for i in range(10):\n",
    "    plt.subplot(1,10,i+1)\n",
    "    plt.axis('off')\n",
    "    plt.imshow(X_train[i,:,:,:].numpy().reshape(28,28), cmap=\"gray_r\")\n",
    "    plt.title('Class: '+str(y_train[i].item()))"
   ]
  },
  {
   "cell_type": "markdown",
   "metadata": {},
   "source": [
    "## MLP network definition\n",
    "\n",
    "Let's define the network as a Python class.  We have to write the `__init__()` and `forward()` methods, and PyTorch will automatically generate a `backward()` method for computing the gradients for the backward pass.\n",
    "\n",
    "Finally, we define an optimizer to update the model parameters based on the computed gradients.  We select *stochastic gradient descent (with momentum)* as the optimization algorithm, and set *learning rate* to 0.01.  Note that there are [several different options](http://pytorch.org/docs/optim.html#algorithms) for the optimizer in PyTorch that we could use instead of *SGD*."
   ]
  },
  {
   "cell_type": "code",
   "execution_count": 5,
   "metadata": {},
   "outputs": [
    {
     "name": "stdout",
     "output_type": "stream",
     "text": [
      "Net(\n",
      "  (fc1): Linear(in_features=784, out_features=50, bias=True)\n",
      "  (fc1_drop): Dropout(p=0.2, inplace=False)\n",
      "  (fc2): Linear(in_features=50, out_features=50, bias=True)\n",
      "  (fc2_drop): Dropout(p=0.2, inplace=False)\n",
      "  (fc3): Linear(in_features=50, out_features=10, bias=True)\n",
      ")\n"
     ]
    }
   ],
   "source": [
    "class Net(nn.Module):\n",
    "    def __init__(self):\n",
    "        super(Net, self).__init__()\n",
    "        self.fc1 = nn.Linear(28*28, 50)\n",
    "        self.fc1_drop = nn.Dropout(0.2)\n",
    "        self.fc2 = nn.Linear(50, 50)\n",
    "        self.fc2_drop = nn.Dropout(0.2)\n",
    "        self.fc3 = nn.Linear(50, 10)\n",
    "\n",
    "    def forward(self, x):\n",
    "        x = x.view(-1, 28*28)\n",
    "        x = F.relu(self.fc1(x))\n",
    "        x = self.fc1_drop(x)\n",
    "        x = F.relu(self.fc2(x))\n",
    "        x = self.fc2_drop(x)\n",
    "        return F.log_softmax(self.fc3(x), dim=1)\n",
    "\n",
    "model = Net().to(device)\n",
    "optimizer = torch.optim.SGD(model.parameters(), lr=0.01, momentum=0.5)\n",
    "criterion = nn.CrossEntropyLoss()\n",
    "\n",
    "print(model)"
   ]
  },
  {
   "cell_type": "markdown",
   "metadata": {},
   "source": [
    "## Learning\n",
    "\n",
    "Let's now define functions to `train()` and `validate()` the model. "
   ]
  },
  {
   "cell_type": "code",
   "execution_count": 6,
   "metadata": {},
   "outputs": [],
   "source": [
    "def train(epoch, log_interval=200):\n",
    "    # Set model to training mode\n",
    "    model.train()\n",
    "    \n",
    "    # Loop over each batch from the training set\n",
    "    for batch_idx, (data, target) in enumerate(train_loader):\n",
    "        # Copy data to GPU if needed\n",
    "        data = data.to(device)\n",
    "        target = target.to(device)\n",
    "\n",
    "        # Zero gradient buffers\n",
    "        optimizer.zero_grad() \n",
    "        \n",
    "        # Pass data through the network\n",
    "        output = model(data)\n",
    "\n",
    "        # Calculate loss\n",
    "        loss = criterion(output, target)\n",
    "\n",
    "        # Backpropagate\n",
    "        loss.backward()\n",
    "        \n",
    "        # Update weights\n",
    "        optimizer.step()\n",
    "        \n",
    "        if batch_idx % log_interval == 0:\n",
    "            print('Train Epoch: {} [{}/{} ({:.0f}%)]\\tLoss: {:.6f}'.format(\n",
    "                epoch, batch_idx * len(data), len(train_loader.dataset),\n",
    "                100. * batch_idx / len(train_loader), loss.data.item()))"
   ]
  },
  {
   "cell_type": "code",
   "execution_count": 7,
   "metadata": {},
   "outputs": [],
   "source": [
    "def validate(loss_vector, accuracy_vector):\n",
    "    model.eval()\n",
    "    val_loss, correct = 0, 0\n",
    "    for data, target in validation_loader:\n",
    "        data = data.to(device)\n",
    "        target = target.to(device)\n",
    "        output = model(data)\n",
    "        val_loss += criterion(output, target).data.item()\n",
    "        pred = output.data.max(1)[1] # get the index of the max log-probability\n",
    "        correct += pred.eq(target.data).cpu().sum()\n",
    "\n",
    "    val_loss /= len(validation_loader)\n",
    "    loss_vector.append(val_loss)\n",
    "\n",
    "    accuracy = 100. * correct.to(torch.float32) / len(validation_loader.dataset)\n",
    "    accuracy_vector.append(accuracy)\n",
    "    \n",
    "    print('\\nValidation set: Average loss: {:.4f}, Accuracy: {}/{} ({:.0f}%)\\n'.format(\n",
    "        val_loss, correct, len(validation_loader.dataset), accuracy))\n"
   ]
  },
  {
   "cell_type": "markdown",
   "metadata": {},
   "source": [
    "Now we are ready to train our model using the `train()` function.  An *epoch* means one pass through the whole training data. After each epoch, we evaluate the model using `validate()`. "
   ]
  },
  {
   "cell_type": "code",
   "execution_count": 8,
   "metadata": {},
   "outputs": [
    {
     "name": "stdout",
     "output_type": "stream",
     "text": [
      "Train Epoch: 1 [0/60000 (0%)]\tLoss: 2.313690\n",
      "Train Epoch: 1 [6400/60000 (11%)]\tLoss: 2.185229\n",
      "Train Epoch: 1 [12800/60000 (21%)]\tLoss: 1.582519\n",
      "Train Epoch: 1 [19200/60000 (32%)]\tLoss: 1.088673\n",
      "Train Epoch: 1 [25600/60000 (43%)]\tLoss: 0.649061\n",
      "Train Epoch: 1 [32000/60000 (53%)]\tLoss: 0.557117\n",
      "Train Epoch: 1 [38400/60000 (64%)]\tLoss: 0.513297\n",
      "Train Epoch: 1 [44800/60000 (75%)]\tLoss: 0.466331\n",
      "Train Epoch: 1 [51200/60000 (85%)]\tLoss: 0.452987\n",
      "Train Epoch: 1 [57600/60000 (96%)]\tLoss: 0.610380\n",
      "\n",
      "Validation set: Average loss: 0.3821, Accuracy: 8856/10000 (89%)\n",
      "\n",
      "Train Epoch: 2 [0/60000 (0%)]\tLoss: 0.507069\n",
      "Train Epoch: 2 [6400/60000 (11%)]\tLoss: 0.293751\n",
      "Train Epoch: 2 [12800/60000 (21%)]\tLoss: 0.717770\n",
      "Train Epoch: 2 [19200/60000 (32%)]\tLoss: 0.569674\n",
      "Train Epoch: 2 [25600/60000 (43%)]\tLoss: 0.367354\n",
      "Train Epoch: 2 [32000/60000 (53%)]\tLoss: 0.327907\n",
      "Train Epoch: 2 [38400/60000 (64%)]\tLoss: 0.469750\n",
      "Train Epoch: 2 [44800/60000 (75%)]\tLoss: 0.351502\n",
      "Train Epoch: 2 [51200/60000 (85%)]\tLoss: 0.479994\n",
      "Train Epoch: 2 [57600/60000 (96%)]\tLoss: 0.410720\n",
      "\n",
      "Validation set: Average loss: 0.2699, Accuracy: 9207/10000 (92%)\n",
      "\n",
      "Train Epoch: 3 [0/60000 (0%)]\tLoss: 0.154871\n",
      "Train Epoch: 3 [6400/60000 (11%)]\tLoss: 0.384754\n",
      "Train Epoch: 3 [12800/60000 (21%)]\tLoss: 0.222258\n",
      "Train Epoch: 3 [19200/60000 (32%)]\tLoss: 0.174414\n",
      "Train Epoch: 3 [25600/60000 (43%)]\tLoss: 0.237248\n",
      "Train Epoch: 3 [32000/60000 (53%)]\tLoss: 0.329192\n",
      "Train Epoch: 3 [38400/60000 (64%)]\tLoss: 0.338421\n",
      "Train Epoch: 3 [44800/60000 (75%)]\tLoss: 0.348110\n",
      "Train Epoch: 3 [51200/60000 (85%)]\tLoss: 0.642537\n",
      "Train Epoch: 3 [57600/60000 (96%)]\tLoss: 0.297119\n",
      "\n",
      "Validation set: Average loss: 0.2174, Accuracy: 9349/10000 (93%)\n",
      "\n",
      "Train Epoch: 4 [0/60000 (0%)]\tLoss: 0.301864\n",
      "Train Epoch: 4 [6400/60000 (11%)]\tLoss: 0.294105\n",
      "Train Epoch: 4 [12800/60000 (21%)]\tLoss: 0.151168\n",
      "Train Epoch: 4 [19200/60000 (32%)]\tLoss: 0.150173\n",
      "Train Epoch: 4 [25600/60000 (43%)]\tLoss: 0.193015\n",
      "Train Epoch: 4 [32000/60000 (53%)]\tLoss: 0.516539\n",
      "Train Epoch: 4 [38400/60000 (64%)]\tLoss: 0.210170\n",
      "Train Epoch: 4 [44800/60000 (75%)]\tLoss: 0.340650\n",
      "Train Epoch: 4 [51200/60000 (85%)]\tLoss: 0.234172\n",
      "Train Epoch: 4 [57600/60000 (96%)]\tLoss: 0.107684\n",
      "\n",
      "Validation set: Average loss: 0.1865, Accuracy: 9433/10000 (94%)\n",
      "\n",
      "Train Epoch: 5 [0/60000 (0%)]\tLoss: 0.254066\n",
      "Train Epoch: 5 [6400/60000 (11%)]\tLoss: 0.224837\n",
      "Train Epoch: 5 [12800/60000 (21%)]\tLoss: 0.296872\n",
      "Train Epoch: 5 [19200/60000 (32%)]\tLoss: 0.186827\n",
      "Train Epoch: 5 [25600/60000 (43%)]\tLoss: 0.370952\n",
      "Train Epoch: 5 [32000/60000 (53%)]\tLoss: 0.064692\n",
      "Train Epoch: 5 [38400/60000 (64%)]\tLoss: 0.265236\n",
      "Train Epoch: 5 [44800/60000 (75%)]\tLoss: 0.391936\n",
      "Train Epoch: 5 [51200/60000 (85%)]\tLoss: 0.246405\n",
      "Train Epoch: 5 [57600/60000 (96%)]\tLoss: 0.254400\n",
      "\n",
      "Validation set: Average loss: 0.1669, Accuracy: 9485/10000 (95%)\n",
      "\n",
      "Train Epoch: 6 [0/60000 (0%)]\tLoss: 0.131223\n",
      "Train Epoch: 6 [6400/60000 (11%)]\tLoss: 0.439565\n",
      "Train Epoch: 6 [12800/60000 (21%)]\tLoss: 0.265870\n",
      "Train Epoch: 6 [19200/60000 (32%)]\tLoss: 0.436723\n",
      "Train Epoch: 6 [25600/60000 (43%)]\tLoss: 0.046614\n",
      "Train Epoch: 6 [32000/60000 (53%)]\tLoss: 0.213355\n",
      "Train Epoch: 6 [38400/60000 (64%)]\tLoss: 0.210865\n",
      "Train Epoch: 6 [44800/60000 (75%)]\tLoss: 0.370791\n",
      "Train Epoch: 6 [51200/60000 (85%)]\tLoss: 0.190470\n",
      "Train Epoch: 6 [57600/60000 (96%)]\tLoss: 0.681528\n",
      "\n",
      "Validation set: Average loss: 0.1525, Accuracy: 9521/10000 (95%)\n",
      "\n",
      "Train Epoch: 7 [0/60000 (0%)]\tLoss: 0.114507\n",
      "Train Epoch: 7 [6400/60000 (11%)]\tLoss: 0.445494\n",
      "Train Epoch: 7 [12800/60000 (21%)]\tLoss: 0.455031\n",
      "Train Epoch: 7 [19200/60000 (32%)]\tLoss: 0.102365\n",
      "Train Epoch: 7 [25600/60000 (43%)]\tLoss: 0.128880\n",
      "Train Epoch: 7 [32000/60000 (53%)]\tLoss: 0.079282\n",
      "Train Epoch: 7 [38400/60000 (64%)]\tLoss: 0.130052\n",
      "Train Epoch: 7 [44800/60000 (75%)]\tLoss: 0.118411\n",
      "Train Epoch: 7 [51200/60000 (85%)]\tLoss: 0.182489\n",
      "Train Epoch: 7 [57600/60000 (96%)]\tLoss: 0.302711\n",
      "\n",
      "Validation set: Average loss: 0.1434, Accuracy: 9561/10000 (96%)\n",
      "\n",
      "Train Epoch: 8 [0/60000 (0%)]\tLoss: 0.074503\n",
      "Train Epoch: 8 [6400/60000 (11%)]\tLoss: 0.108453\n",
      "Train Epoch: 8 [12800/60000 (21%)]\tLoss: 0.370529\n",
      "Train Epoch: 8 [19200/60000 (32%)]\tLoss: 0.150694\n",
      "Train Epoch: 8 [25600/60000 (43%)]\tLoss: 0.140544\n",
      "Train Epoch: 8 [32000/60000 (53%)]\tLoss: 0.264686\n",
      "Train Epoch: 8 [38400/60000 (64%)]\tLoss: 0.275644\n",
      "Train Epoch: 8 [44800/60000 (75%)]\tLoss: 0.131613\n",
      "Train Epoch: 8 [51200/60000 (85%)]\tLoss: 0.148722\n",
      "Train Epoch: 8 [57600/60000 (96%)]\tLoss: 0.167509\n",
      "\n",
      "Validation set: Average loss: 0.1319, Accuracy: 9599/10000 (96%)\n",
      "\n",
      "Train Epoch: 9 [0/60000 (0%)]\tLoss: 0.268901\n",
      "Train Epoch: 9 [6400/60000 (11%)]\tLoss: 0.303915\n",
      "Train Epoch: 9 [12800/60000 (21%)]\tLoss: 0.207573\n",
      "Train Epoch: 9 [19200/60000 (32%)]\tLoss: 0.143813\n",
      "Train Epoch: 9 [25600/60000 (43%)]\tLoss: 0.144456\n",
      "Train Epoch: 9 [32000/60000 (53%)]\tLoss: 0.116418\n",
      "Train Epoch: 9 [38400/60000 (64%)]\tLoss: 0.573473\n",
      "Train Epoch: 9 [44800/60000 (75%)]\tLoss: 0.125559\n",
      "Train Epoch: 9 [51200/60000 (85%)]\tLoss: 0.064976\n",
      "Train Epoch: 9 [57600/60000 (96%)]\tLoss: 0.158278\n",
      "\n",
      "Validation set: Average loss: 0.1289, Accuracy: 9604/10000 (96%)\n",
      "\n",
      "Train Epoch: 10 [0/60000 (0%)]\tLoss: 0.107566\n",
      "Train Epoch: 10 [6400/60000 (11%)]\tLoss: 0.112474\n",
      "Train Epoch: 10 [12800/60000 (21%)]\tLoss: 0.165923\n",
      "Train Epoch: 10 [19200/60000 (32%)]\tLoss: 0.109591\n",
      "Train Epoch: 10 [25600/60000 (43%)]\tLoss: 0.166252\n",
      "Train Epoch: 10 [32000/60000 (53%)]\tLoss: 0.192835\n",
      "Train Epoch: 10 [38400/60000 (64%)]\tLoss: 0.304447\n",
      "Train Epoch: 10 [44800/60000 (75%)]\tLoss: 0.127377\n",
      "Train Epoch: 10 [51200/60000 (85%)]\tLoss: 0.059395\n",
      "Train Epoch: 10 [57600/60000 (96%)]\tLoss: 0.253606\n",
      "\n",
      "Validation set: Average loss: 0.1174, Accuracy: 9649/10000 (96%)\n",
      "\n",
      "CPU times: user 50.9 s, sys: 586 ms, total: 51.5 s\n",
      "Wall time: 51.3 s\n"
     ]
    }
   ],
   "source": [
    "%%time\n",
    "epochs = 10\n",
    "\n",
    "lossv, accv = [], []\n",
    "for epoch in range(1, epochs + 1):\n",
    "    train(epoch)\n",
    "    validate(lossv, accv)"
   ]
  },
  {
   "cell_type": "markdown",
   "metadata": {},
   "source": [
    "Let's now visualize how the training progressed. \n",
    "\n",
    "* *Loss* is a function of the difference of the network output and the target values.  We are minimizing the loss function during training so it should decrease over time.\n",
    "* *Accuracy* is the classification accuracy for the test data."
   ]
  },
  {
   "cell_type": "code",
   "execution_count": 9,
   "metadata": {},
   "outputs": [
    {
     "data": {
      "text/plain": "<Figure size 360x216 with 1 Axes>",
      "image/png": "[encoded data removed]"
     },
     "metadata": {
      "needs_background": "light"
     },
     "output_type": "display_data"
    },
    {
     "data": {
      "text/plain": "<Figure size 360x216 with 1 Axes>",
      "image/png": "[encoded data removed]"
     },
     "metadata": {
      "needs_background": "light"
     },
     "output_type": "display_data"
    }
   ],
   "source": [
    "plt.figure(figsize=(5,3))\n",
    "plt.plot(np.arange(1,epochs+1), lossv)\n",
    "plt.title('validation loss')\n",
    "\n",
    "plt.figure(figsize=(5,3))\n",
    "plt.plot(np.arange(1,epochs+1), accv)\n",
    "plt.title('validation accuracy');"
   ]
  },
  {
   "cell_type": "markdown",
   "metadata": {},
   "source": [
    "## Model tuning\n",
    "\n",
    "Modify the MLP model.  Try to improve the classification accuracy, or experiment with the effects of different parameters.  If you are interested in the state-of-the-art performance on permutation invariant MNIST, see e.g. this [recent paper](https://arxiv.org/abs/1507.02672) by Aalto University / The Curious AI Company researchers.\n",
    "\n",
    "You can also consult the PyTorch documentation at http://pytorch.org/."
   ]
  },
  {
   "cell_type": "code",
   "execution_count": null,
   "metadata": {},
   "outputs": [],
   "source": []
  }
 ],
 "metadata": {
  "kernelspec": {
   "name": "python3711jvsc74a57bd0792f54f9c25eea9a2dc0ef100a44d921c1cad6be3dd4256b0793a9842f667469",
   "language": "python",
   "display_name": "Python 3.7.11 ('py37')"
  },
  "language_info": {
   "codemirror_mode": {
    "name": "ipython",
    "version": 3
   },
   "file_extension": ".py",
   "mimetype": "text/x-python",
   "name": "python",
   "nbconvert_exporter": "python",
   "pygments_lexer": "ipython3",
   "version": "3.7.11"
  }
 },
 "nbformat": 4,
 "nbformat_minor": 4
}